{
 "cells": [
  {
   "cell_type": "code",
   "execution_count": 1,
   "id": "5d8abf15-5fe0-49cc-ad5c-c688cbde3304",
   "metadata": {},
   "outputs": [],
   "source": [
    "import matplotlib.pyplot as plt\n",
    "%matplotlib inline\n",
    "import numpy as np\n",
    "import scipy.stats"
   ]
  },
  {
   "cell_type": "markdown",
   "id": "660d443e-26c2-4406-a035-d9dd599f79b0",
   "metadata": {},
   "source": [
    "# Kullback-Leibler divergence"
   ]
  },
  {
   "cell_type": "markdown",
   "id": "6b1ad233-a4a9-4ef0-abcd-1d20be1feb34",
   "metadata": {},
   "source": [
    "Define the Kullback-Leibler divergence as:\n",
    "$$\n",
    "\\textrm{KL}(p, q) = \\sum_{i} p_i \\log \\frac{p_i}{q_i}\n",
    "$$"
   ]
  },
  {
   "cell_type": "code",
   "execution_count": 2,
   "id": "fe17c58f-6154-41e7-a83b-87ecf7a8ed00",
   "metadata": {},
   "outputs": [],
   "source": [
    "def kullback_leibler_div(p, q):\n",
    "    return np.sum(p*np.log(p/q))"
   ]
  },
  {
   "cell_type": "markdown",
   "id": "f79fdff3-8608-4233-9021-cfa174c48398",
   "metadata": {},
   "source": [
    "# Example"
   ]
  },
  {
   "cell_type": "markdown",
   "id": "2d361c22-645c-4a55-9fc5-f45edf5463cb",
   "metadata": {},
   "source": [
    "Consider a normal distribution with mean $\\mu = 0.0$ and standard deviation $\\sigma = 1.0$.  The distribution is computed on the interval $[-3, 3]$."
   ]
  },
  {
   "cell_type": "code",
   "execution_count": 3,
   "id": "782dee3c-5265-48ab-ab4c-1b92f334ade5",
   "metadata": {},
   "outputs": [],
   "source": [
    "μ, σ = 0.0, 1.0"
   ]
  },
  {
   "cell_type": "code",
   "execution_count": 4,
   "id": "77c3a026-a09a-4837-8633-a7f6796d1a23",
   "metadata": {},
   "outputs": [],
   "source": [
    "x = np.linspace(-3.0, 3.0, 601)"
   ]
  },
  {
   "cell_type": "code",
   "execution_count": 5,
   "id": "69f724b8-008c-40b9-9d54-7d10109a4030",
   "metadata": {},
   "outputs": [],
   "source": [
    "p = scipy.stats.norm(loc=μ, scale=σ).pdf(x)"
   ]
  },
  {
   "cell_type": "markdown",
   "id": "98d280f3-b05c-41e5-b51d-2cbb79b3a7d9",
   "metadata": {},
   "source": [
    "Next, we consider distribution with the same mean value $\\mu = 0.0$, but various different values for the standard deviation."
   ]
  },
  {
   "cell_type": "code",
   "execution_count": 6,
   "id": "a028fe7b-9657-437f-8675-4f2aa7118d13",
   "metadata": {},
   "outputs": [],
   "source": [
    "σs = np.arange(0.1, 2.1, 0.01)"
   ]
  },
  {
   "cell_type": "code",
   "execution_count": 7,
   "id": "e6fc4509-a9a9-47b0-a7a0-9916edc3509b",
   "metadata": {},
   "outputs": [],
   "source": [
    "qs = [scipy.stats.norm(loc=μ, scale=σ).pdf(x) for σ in σs]"
   ]
  },
  {
   "cell_type": "markdown",
   "id": "55fd805b-0265-4e7b-9396-36aabd0d2b84",
   "metadata": {},
   "source": [
    "Compute the divergence between the distributions $q$ and $p$."
   ]
  },
  {
   "cell_type": "code",
   "execution_count": 8,
   "id": "0c374926-759f-4893-bbde-41a4830aabde",
   "metadata": {},
   "outputs": [],
   "source": [
    "divs = [kullback_leibler_div(p, q) for q in qs]"
   ]
  },
  {
   "cell_type": "code",
   "execution_count": 9,
   "id": "9bcca801-a677-4ee3-a8ea-a4d89057032f",
   "metadata": {},
   "outputs": [
    {
     "data": {
      "image/png": "[encoded data removed]",
      "text/plain": [
       "<Figure size 432x288 with 1 Axes>"
      ]
     },
     "metadata": {
      "needs_background": "light"
     },
     "output_type": "display_data"
    }
   ],
   "source": [
    "plt.semilogy(σs, divs);\n",
    "plt.xlabel(r'$\\sigma$');\n",
    "plt.ylabel(r'$KL(p, q)$');"
   ]
  },
  {
   "cell_type": "markdown",
   "id": "92d8aece-f1e3-447a-a387-52a4d2d1658e",
   "metadata": {},
   "source": [
    "For $\\sigma = 1.0$ the distributions $p$ and $q$ are identical, and the Kullback-Leibler divergence is 0."
   ]
  }
 ],
 "metadata": {
  "kernelspec": {
   "display_name": "Python 3 (ipykernel)",
   "language": "python",
   "name": "python3"
  },
  "language_info": {
   "codemirror_mode": {
    "name": "ipython",
    "version": 3
   },
   "file_extension": ".py",
   "mimetype": "text/x-python",
   "name": "python",
   "nbconvert_exporter": "python",
   "pygments_lexer": "ipython3",
   "version": "3.9.7"
  }
 },
 "nbformat": 4,
 "nbformat_minor": 5
}
